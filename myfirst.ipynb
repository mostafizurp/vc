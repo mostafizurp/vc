{
 "cells": [
  {
   "cell_type": "code",
   "execution_count": 11,
   "metadata": {},
   "outputs": [],
   "source": [
    "M <- matrix(c(3:14), nrow = 6, byrow = TRUE)"
   ]
  },
  {
   "cell_type": "code",
   "execution_count": 12,
   "metadata": {},
   "outputs": [
    {
     "data": {
      "text/html": [
       "<table>\n",
       "<tbody>\n",
       "\t<tr><td> 3</td><td> 4</td></tr>\n",
       "\t<tr><td> 5</td><td> 6</td></tr>\n",
       "\t<tr><td> 7</td><td> 8</td></tr>\n",
       "\t<tr><td> 9</td><td>10</td></tr>\n",
       "\t<tr><td>11</td><td>12</td></tr>\n",
       "\t<tr><td>13</td><td>14</td></tr>\n",
       "</tbody>\n",
       "</table>\n"
      ],
      "text/latex": [
       "\\begin{tabular}{ll}\n",
       "\t  3 &  4\\\\\n",
       "\t  5 &  6\\\\\n",
       "\t  7 &  8\\\\\n",
       "\t  9 & 10\\\\\n",
       "\t 11 & 12\\\\\n",
       "\t 13 & 14\\\\\n",
       "\\end{tabular}\n"
      ],
      "text/markdown": [
       "\n",
       "|  3 |  4 |\n",
       "|  5 |  6 |\n",
       "|  7 |  8 |\n",
       "|  9 | 10 |\n",
       "| 11 | 12 |\n",
       "| 13 | 14 |\n",
       "\n"
      ],
      "text/plain": [
       "     [,1] [,2]\n",
       "[1,]  3    4  \n",
       "[2,]  5    6  \n",
       "[3,]  7    8  \n",
       "[4,]  9   10  \n",
       "[5,] 11   12  \n",
       "[6,] 13   14  "
      ]
     },
     "metadata": {},
     "output_type": "display_data"
    }
   ],
   "source": [
    "M"
   ]
  },
  {
   "cell_type": "code",
   "execution_count": 13,
   "metadata": {},
   "outputs": [
    {
     "data": {
      "image/png": "[encoded data removed]",
      "text/plain": [
       "plot without title"
      ]
     },
     "metadata": {},
     "output_type": "display_data"
    }
   ],
   "source": [
    "plot(M)"
   ]
  },
  {
   "cell_type": "code",
   "execution_count": null,
   "metadata": {},
   "outputs": [],
   "source": []
  }
 ],
 "metadata": {
  "kernelspec": {
   "display_name": "R",
   "language": "R",
   "name": "ir"
  },
  "language_info": {
   "codemirror_mode": "r",
   "file_extension": ".r",
   "mimetype": "text/x-r-source",
   "name": "R",
   "pygments_lexer": "r",
   "version": "3.6.1"
  }
 },
 "nbformat": 4,
 "nbformat_minor": 4
}
